{
  "cells": [
    {
      "cell_type": "markdown",
      "source": [
        "# Installing packages"
      ],
      "metadata": {
        "id": "T7Tu05KSvz4-"
      }
    },
    {
      "cell_type": "code",
      "execution_count": null,
      "metadata": {
        "id": "GWOTK6zKvutk"
      },
      "outputs": [],
      "source": [
        "!pip install -q pandas\n",
        "!pip install --user -q torch\n",
        "!pip install -q transformers\n",
        "!pip install --user -q pytest \n",
        "!pip install --user -q tqdm\n",
        "!pip install gdown"
      ]
    },
    {
      "cell_type": "markdown",
      "source": [
        "***Warning***: Depending on the runtime used, you might have to restart the kernel in order for the new libraries to be located properly."
      ],
      "metadata": {
        "id": "ehgTFJjulInl"
      }
    },
    {
      "cell_type": "markdown",
      "metadata": {
        "id": "7y5W2px4vut2"
      },
      "source": [
        "# Import libraries"
      ]
    },
    {
      "cell_type": "code",
      "execution_count": null,
      "metadata": {
        "id": "xIYmaQnpvut3"
      },
      "outputs": [],
      "source": [
        "import itertools\n",
        "import functools as fu\n",
        "import pandas as pd\n",
        "import numpy as np\n",
        "import h5py\n",
        "from tqdm import tqdm\n",
        "from pathlib import Path\n",
        "import pickle\n",
        "import tensorflow as tf\n",
        "import tensorflow.keras as keras\n",
        "import torch\n",
        "import transformers\n",
        "from transformers import BertTokenizer, TFBertModel, BertConfig,TFDistilBertModel,DistilBertTokenizer,DistilBertConfig\n",
        "from transformers import AutoModel, AutoTokenizer\n",
        "from tensorflow.keras.layers import Dense,Dropout, Input\n",
        "from tensorflow.keras import regularizers"
      ]
    },
    {
      "cell_type": "markdown",
      "metadata": {
        "id": "0TX1ela0vuts"
      },
      "source": [
        "Download tokenized tweets from google drive. If the automatic download fails, please copy-paste the link in the browser, download them, and upload them manually."
      ]
    },
    {
      "cell_type": "code",
      "execution_count": null,
      "metadata": {
        "id": "Z6fmyUZtvut0"
      },
      "outputs": [],
      "source": [
        "import gdown\n",
        "files={\n",
        "    \"attention_masks.pkl\": \"https://drive.google.com/uc?id=1xxv8TWjycS3xRt-9_QrjuGeCsn5lMjge\",\n",
        "    \"sentiments_encoded.pkl\": \"https://drive.google.com/uc?id=1W4bPBy0AO9RKVa1dTiUwp7KIi3LHTIcQ\",\n",
        "    \"token_types.pkl\": \"https://drive.google.com/uc?id=17aTXUlBWWA7eCy2lb7Zwg7APoe0VVqyY\",\n",
        "    \"tweets_encoded.pkl\": \"https://drive.google.com/uc?id=1ZKrDAtIIf5nXeRkAQ9o0wThwwJMPGylX\",\n",
        "}\n",
        "for fname, url in files.items():\n",
        "    gdown.download(url, fname)"
      ]
    },
    {
      "cell_type": "markdown",
      "source": [
        "# Load the tokenized tweets"
      ],
      "metadata": {
        "id": "2I99EvJbw6BY"
      }
    },
    {
      "cell_type": "code",
      "execution_count": null,
      "metadata": {
        "id": "cfsoxoiTtCXw"
      },
      "outputs": [],
      "source": [
        "def load_from_pickle():\n",
        "    with open('tweets_encoded.pkl', 'rb') as f:\n",
        "        tweets_encoded = pickle.load(f)\n",
        "        print(\"Loaded tweets_encoded\")\n",
        "    with open('attention_masks.pkl', 'rb') as f:\n",
        "        attention_masks = pickle.load(f)\n",
        "        print(\"Loaded attention_masks\")\n",
        "    with open('token_types.pkl', 'rb') as f:\n",
        "        token_types = pickle.load(f)\n",
        "        print(\"Loaded token_types\")\n",
        "    with open('sentiments_encoded.pkl', 'rb') as f:\n",
        "        sentiments_encoded = pickle.load(f)\n",
        "        print(\"Loaded sentiments_encoded\")\n",
        "\n",
        "    return tweets_encoded, attention_masks, token_types,sentiments_encoded \n",
        "\n",
        "print(\"Pickle!\")\n",
        "all_tweets_encoded, all_attention_masks, all_token_types, all_sentiments_encoded = load_from_pickle()\n",
        "tweets_encoded, attention_masks, token_types, sentiments_encoded = all_tweets_encoded, all_attention_masks, all_token_types, all_sentiments_encoded\n",
        "tweets, sentiments = [tweets_encoded, attention_masks], sentiments_encoded "
      ]
    },
    {
      "cell_type": "markdown",
      "metadata": {
        "id": "w_hz485zvut4"
      },
      "source": [
        "# Define the number of GPU's and batch size you can support\n"
      ]
    },
    {
      "cell_type": "code",
      "execution_count": null,
      "metadata": {
        "id": "fDbD9FaBvut5"
      },
      "outputs": [],
      "source": [
        "max_length = 512\n",
        "num_gpu = 8\n",
        "batch_size = 30 * num_gpu\n",
        "\n",
        "EPOCHS=10"
      ]
    },
    {
      "cell_type": "markdown",
      "metadata": {
        "id": "6D2EoPYBvut5"
      },
      "source": [
        "# Helper function"
      ]
    },
    {
      "cell_type": "code",
      "execution_count": null,
      "metadata": {
        "id": "5MHPLWiYtA-N",
        "tags": []
      },
      "outputs": [],
      "source": [
        "def map_example_to_dict(input_ids, attention_masks, label):\n",
        "  return {\n",
        "      \"input_ids\": input_ids,\n",
        "      \"attention_mask\": attention_masks,\n",
        "  }, label"
      ]
    },
    {
      "cell_type": "markdown",
      "source": [
        "# Make train, validation, and test data\n",
        "Here we have: 90% train, 5% validation, and 5% test."
      ],
      "metadata": {
        "id": "HeQi3QZkw8JV"
      }
    },
    {
      "cell_type": "code",
      "execution_count": null,
      "metadata": {
        "id": "BQfm5_EvvuuR"
      },
      "outputs": [],
      "source": [
        "def make_train_data(start_tweets, start_sentiments):\n",
        "\n",
        "      tweets = start_tweets\n",
        "      sentiments =  start_sentiments\n",
        "\n",
        "\n",
        "      ratio = 0.9\n",
        "        \n",
        "      print(start_sentiments[:10])\n",
        "      print(start_sentiments[-10:])\n",
        "        \n",
        "      pos, neg = sentiments[: sentiments.count(1)], sentiments[- sentiments.count(0):]\n",
        "        \n",
        "      np.random.seed(10)  \n",
        "      msk1 = np.random.rand(len(pos)) < ratio\n",
        "      np.random.seed(11)  \n",
        "      msk2 = np.random.rand(len(neg)) < ratio\n",
        "\n",
        "      train_tweets = [[], []]\n",
        "      train_sentiments = []\n",
        "\n",
        "      validation_tweets = [[], []]\n",
        "      validation_sentiments = []\n",
        "\n",
        "      test_tweets = [[], []]\n",
        "      test_sentiments = []\n",
        "\n",
        "      rest_tweets = [[], []] \n",
        "      rest_sentiments = []\n",
        "\n",
        "      for i in range(len(pos)):\n",
        "        if msk1[i] == True:\n",
        "          train_tweets[0].append(tweets[0][i]) \n",
        "          train_tweets[1].append(tweets[1][i]) \n",
        "          train_sentiments.append(sentiments[i])\n",
        "        else:\n",
        "          rest_tweets[0].append(tweets[0][i]) \n",
        "          rest_tweets[1].append(tweets[1][i]) \n",
        "          rest_sentiments.append(sentiments[i])\n",
        "            \n",
        "      for i in range(len(neg)):\n",
        "        if msk2[i] == True:\n",
        "          train_tweets[0].append(tweets[0][len(pos) + i])\n",
        "          train_tweets[1].append(tweets[1][len(pos) +i])  \n",
        "          train_sentiments.append(sentiments[len(pos) +i])\n",
        "        else:\n",
        "          rest_tweets[0].append(tweets[0][len(pos) +i])\n",
        "          rest_tweets[1].append(tweets[1][len(pos) +i])\n",
        "          rest_sentiments.append(sentiments[len(pos) +i])\n",
        "\n",
        "\n",
        "      rest_ratio = 0.5\n",
        "      print(rest_sentiments[:10])\n",
        "      print(rest_sentiments[-10:])\n",
        "    \n",
        "      pos, neg = rest_sentiments[: rest_sentiments.count(1)], rest_sentiments[- rest_sentiments.count(0):]\n",
        "      np.random.seed(10)\n",
        "      msk1 = np.random.rand(len(pos)) < rest_ratio\n",
        "      np.random.seed(11)  \n",
        "      msk2 = np.random.rand(len(neg)) < rest_ratio\n",
        "\n",
        "\n",
        "      for i in range(len(pos)):\n",
        "        if msk1[i] == True:\n",
        "          validation_tweets[0].append(rest_tweets[0][i])\n",
        "          validation_tweets[1].append(rest_tweets[1][i])\n",
        "          validation_sentiments.append(rest_sentiments[i])\n",
        "        else:\n",
        "          test_tweets[0].append(rest_tweets[0][i]) \n",
        "          test_tweets[1].append(rest_tweets[1][i]) \n",
        "          test_sentiments.append(rest_sentiments[i])\n",
        "\n",
        "      for i in range(len(neg)):\n",
        "        if msk2[i] == True:\n",
        "          validation_tweets[0].append(rest_tweets[0][len(pos) + i]) \n",
        "          validation_tweets[1].append(rest_tweets[1][len(pos) + i]) \n",
        "          validation_sentiments.append(rest_sentiments[len(pos) + i])\n",
        "        else:\n",
        "          test_tweets[0].append(rest_tweets[0][len(pos) + i]) \n",
        "          test_tweets[1].append(rest_tweets[1][len(pos) + i])  \n",
        "          test_sentiments.append(rest_sentiments[len(pos) + i])\n",
        "            \n",
        "      print(\"I have: Train:\"+str(len(train_sentiments)) + \" Validation:\" +str(len(validation_sentiments)) + \" Test:\" +str(len(test_sentiments))) \n",
        "\n",
        "      train_tweets_ds = tf.data.Dataset.from_tensor_slices((train_tweets[0], train_tweets[1], train_sentiments)).map(map_example_to_dict).shuffle(len(train_sentiments))\n",
        "      print(\"Train loaded\")\n",
        "      validation_tweets_ds = tf.data.Dataset.from_tensor_slices((validation_tweets[0], validation_tweets[1], validation_sentiments)).map(map_example_to_dict).shuffle(len(validation_sentiments))\n",
        "      print(\"Validation loaded\")\n",
        "      test_tweets_ds = tf.data.Dataset.from_tensor_slices((test_tweets[0], test_tweets[1],test_sentiments)).map(map_example_to_dict)\n",
        "      print(\"Test loaded\")\n",
        "      return (train_tweets_ds, train_sentiments), (validation_tweets_ds, validation_sentiments), (test_tweets_ds, test_sentiments)\n",
        "    \n",
        "(ds_train_encoded_unb,ts), (ds_val_encoded_unb, vs), (ds_test_encoded_unb, tss) = make_train_data(tweets, sentiments) "
      ]
    },
    {
      "cell_type": "markdown",
      "source": [
        "# Batch the data\n",
        "You can tweak the batch size by modifying the batch size a few cells above."
      ],
      "metadata": {
        "id": "l6Qe8vrTxBXO"
      }
    },
    {
      "cell_type": "code",
      "execution_count": null,
      "metadata": {
        "id": "MixGDYmSvuuT"
      },
      "outputs": [],
      "source": [
        "ds_train_encoded = ds_train_encoded_unb.batch(batch_size)\n",
        "ds_test_encoded = ds_test_encoded_unb.batch(batch_size)\n",
        "ds_val_encoded = ds_val_encoded_unb.batch(batch_size)"
      ]
    },
    {
      "cell_type": "markdown",
      "source": [
        "# Create the classifier which includes the DistilBERT model"
      ],
      "metadata": {
        "id": "GdT6_r1mxDYK"
      }
    },
    {
      "cell_type": "code",
      "execution_count": null,
      "metadata": {
        "id": "3yANLz53tELF"
      },
      "outputs": [],
      "source": [
        "def create_model():\n",
        "    num_classes = 2\n",
        "    dbert_model = TFDistilBertModel.from_pretrained('distilbert-base-uncased')\n",
        "    inps = Input(shape = (max_length,), dtype='int64', name = 'input_ids')\n",
        "    masks= Input(shape = (max_length,), dtype='int64', name = 'attention_mask')\n",
        "    dbert_layer = dbert_model(inps, attention_mask=masks)[0][:,0,:]\n",
        "    dense = Dense(512,activation='relu',kernel_regularizer=regularizers.l2(0.01))(dbert_layer)\n",
        "    dropout= Dropout(0.5)(dense)\n",
        "    pred = Dense(num_classes, activation='softmax',kernel_regularizer=regularizers.l2(0.01))(dropout)\n",
        "    model = tf.keras.Model(inputs=[inps,masks], outputs=pred)\n",
        "    return model  "
      ]
    },
    {
      "cell_type": "markdown",
      "source": [
        "# Define strategy for training in parallel"
      ],
      "metadata": {
        "id": "-bFIzgjnxOwt"
      }
    },
    {
      "cell_type": "code",
      "execution_count": null,
      "metadata": {
        "id": "VVPGA5hZvuuU"
      },
      "outputs": [],
      "source": [
        "tf.debugging.set_log_device_placement(True)\n",
        "gpus = tf.config.list_logical_devices('GPU')\n",
        "if len(gpus) > 1:\n",
        "    strategy = tf.distribute.MirroredStrategy(gpus)\n",
        "    with strategy.scope():\n",
        "        model = create_model()\n",
        "        loss = tf.keras.losses.SparseCategoricalCrossentropy(from_logits=True)\n",
        "        metric = tf.keras.metrics.SparseCategoricalAccuracy('accuracy')\n",
        "        optimizer = tf.keras.optimizers.Adam(learning_rate=3e-5)\n",
        "\n",
        "        model.compile(loss=loss,optimizer=optimizer, metrics=[metric])\n"
      ]
    },
    {
      "cell_type": "code",
      "execution_count": null,
      "metadata": {
        "id": "elTnSB9FvuuU"
      },
      "outputs": [],
      "source": [
        "model.summary()"
      ]
    },
    {
      "cell_type": "markdown",
      "source": [
        "# Fine-tune the model\n",
        "Eearly stopping to prevent overfitting."
      ],
      "metadata": {
        "id": "AQIgBp7kxed9"
      }
    },
    {
      "cell_type": "code",
      "execution_count": null,
      "metadata": {
        "id": "HHXI-O9LtMZ0"
      },
      "outputs": [],
      "source": [
        "stop_early = tf.keras.callbacks.EarlyStopping(monitor='val_accuracy', patience= 3, restore_best_weights= True);\n",
        "bert_history = model.fit(ds_train_encoded, epochs=EPOCHS, validation_data=ds_val_encoded, callbacks=[stop_early,])"
      ]
    },
    {
      "cell_type": "markdown",
      "source": [
        "# Save the model"
      ],
      "metadata": {
        "id": "rsKMRCi3xlHw"
      }
    },
    {
      "cell_type": "code",
      "execution_count": null,
      "metadata": {
        "id": "_bxOgDWgvuuY"
      },
      "outputs": [],
      "source": [
        "model.save_weights(\"dbert_b30.h5\")"
      ]
    },
    {
      "cell_type": "code",
      "execution_count": null,
      "metadata": {
        "id": "nxHPkqIivuuZ"
      },
      "outputs": [],
      "source": [
        "loaded_model = create_model()\n",
        "\n",
        "optimizer = tf.keras.optimizers.Adam(learning_rate=3e-5)\n",
        "loss = tf.keras.losses.SparseCategoricalCrossentropy(from_logits=True)\n",
        "metric = tf.keras.metrics.SparseCategoricalAccuracy('accuracy')\n",
        "\n",
        "loaded_model.load_weights(\"dbert_b30.h5\")\n",
        "\n",
        "loaded_model.compile(optimizer=optimizer, loss=loss, metrics=[metric])"
      ]
    },
    {
      "cell_type": "markdown",
      "source": [
        "# Evaluate the model"
      ],
      "metadata": {
        "id": "bLkdhb2Kxq_m"
      }
    },
    {
      "cell_type": "code",
      "execution_count": null,
      "metadata": {
        "id": "AAITb3NhvuuZ"
      },
      "outputs": [],
      "source": [
        "loaded_model.evaluate(ds_test_encoded)"
      ]
    },
    {
      "cell_type": "code",
      "execution_count": null,
      "metadata": {
        "id": "8PeOhklWvuua"
      },
      "outputs": [],
      "source": [
        "model.evaluate(ds_test_encoded)"
      ]
    }
  ],
  "metadata": {
    "accelerator": "GPU",
    "colab": {
      "provenance": []
    },
    "gpuClass": "standard",
    "kernelspec": {
      "display_name": "Python 3 (ipykernel)",
      "language": "python",
      "name": "python3"
    },
    "language_info": {
      "codemirror_mode": {
        "name": "ipython",
        "version": 3
      },
      "file_extension": ".py",
      "mimetype": "text/x-python",
      "name": "python",
      "nbconvert_exporter": "python",
      "pygments_lexer": "ipython3",
      "version": "3.8.10"
    }
  },
  "nbformat": 4,
  "nbformat_minor": 0
}