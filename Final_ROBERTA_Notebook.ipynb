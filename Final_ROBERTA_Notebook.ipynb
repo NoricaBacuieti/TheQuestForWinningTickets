{
  "cells": [
    {
      "cell_type": "markdown",
      "source": [
        "# Installing packages"
      ],
      "metadata": {
        "id": "1RSzodycx-LB"
      }
    },
    {
      "cell_type": "code",
      "execution_count": null,
      "metadata": {
        "id": "fsQZAGWDx8Vm"
      },
      "outputs": [],
      "source": [
        "!pip install -q pandas\n",
        "!pip install --user -q torch\n",
        "!pip install -q transformers\n",
        "!pip install --user -q pytest \n",
        "!pip install --user -q tqdm\n",
        "!pip install gdown"
      ]
    },
    {
      "cell_type": "markdown",
      "source": [
        "***Warning***: Depending on the runtime used, you might have to restart the kernel in order for the new libraries to be located properly."
      ],
      "metadata": {
        "id": "Kc3rw79IlKCn"
      }
    },
    {
      "cell_type": "markdown",
      "metadata": {
        "id": "kz03HSm6x8Vt"
      },
      "source": [
        "# Import libraries"
      ]
    },
    {
      "cell_type": "code",
      "execution_count": null,
      "metadata": {
        "id": "_Rj8Q1Mdx8Vt"
      },
      "outputs": [],
      "source": [
        "import itertools\n",
        "import functools as fu\n",
        "import pandas as pd\n",
        "import numpy as np\n",
        "import h5py\n",
        "from tqdm import tqdm\n",
        "from pathlib import Path\n",
        "import pickle\n",
        "import tensorflow as tf\n",
        "import tensorflow.keras as keras\n",
        "import torch\n",
        "import transformers\n",
        "from transformers import BertTokenizer, TFBertForSequenceClassification\n",
        "from transformers import AutoModel, AutoTokenizer\n",
        "from transformers import  TFRobertaForSequenceClassification, RobertaTokenizer"
      ]
    },
    {
      "cell_type": "markdown",
      "metadata": {
        "id": "gVnib3mWx8Vq"
      },
      "source": [
        "Download tokenized tweets from google drive. If the automatic download fails, please copy-paste the link in the browser, download them, and upload them manually."
      ]
    },
    {
      "cell_type": "code",
      "execution_count": null,
      "metadata": {
        "id": "1jj_YDUZx8Vs"
      },
      "outputs": [],
      "source": [
        "import gdown\n",
        "files={\n",
        "    \"attention_masks.pkl\": \"https://drive.google.com/uc?id=1xxv8TWjycS3xRt-9_QrjuGeCsn5lMjge\",\n",
        "    \"sentiments_encoded.pkl\": \"https://drive.google.com/uc?id=1W4bPBy0AO9RKVa1dTiUwp7KIi3LHTIcQ\",\n",
        "    \"token_types.pkl\": \"https://drive.google.com/uc?id=17aTXUlBWWA7eCy2lb7Zwg7APoe0VVqyY\",\n",
        "    \"tweets_encoded.pkl\": \"https://drive.google.com/uc?id=1ZKrDAtIIf5nXeRkAQ9o0wThwwJMPGylX\",\n",
        "}\n",
        "for fname, url in files.items():\n",
        "    gdown.download(url, fname)"
      ]
    },
    {
      "cell_type": "markdown",
      "source": [
        "# Load the tokenized tweets"
      ],
      "metadata": {
        "id": "gN2YvkaCyh9k"
      }
    },
    {
      "cell_type": "code",
      "execution_count": null,
      "metadata": {
        "id": "cfsoxoiTtCXw"
      },
      "outputs": [],
      "source": [
        "def load_from_pickle():\n",
        "    with open('tweets_encoded.pkl', 'rb') as f:\n",
        "        tweets_encoded = pickle.load(f)\n",
        "        print(\"Loaded tweets_encoded\")\n",
        "    with open('attention_masks.pkl', 'rb') as f:\n",
        "        attention_masks = pickle.load(f)\n",
        "        print(\"Loaded attention_masks\")\n",
        "    with open('token_types.pkl', 'rb') as f:\n",
        "        token_types = pickle.load(f)\n",
        "        print(\"Loaded token_types\")\n",
        "    with open('sentiments_encoded.pkl', 'rb') as f:\n",
        "        sentiments_encoded = pickle.load(f)\n",
        "        print(\"Loaded sentiments_encoded\")\n",
        "\n",
        "    return tweets_encoded, attention_masks, token_types, sentiments_encoded\n",
        "\n",
        "print(\"Pickle!\")\n",
        "all_tweets_encoded, all_attention_masks, all_token_types, all_sentiments_encoded = load_from_pickle()\n",
        "tweets_encoded, attention_masks, token_types, sentiments_encoded = all_tweets_encoded, all_attention_masks, all_token_types, all_sentiments_encoded\n",
        "tweets, sentiments = [tweets_encoded, attention_masks, token_types], sentiments_encoded"
      ]
    },
    {
      "cell_type": "markdown",
      "metadata": {
        "id": "IFKpye1Sx8Vu"
      },
      "source": [
        "# Define the number of GPU's and batch size you can support"
      ]
    },
    {
      "cell_type": "code",
      "execution_count": null,
      "metadata": {
        "id": "qRt65ULlx8Vu"
      },
      "outputs": [],
      "source": [
        "max_length = 512\n",
        "num_gpu = 8\n",
        "batch_size = 30 * num_gpu\n",
        "\n",
        "EPOCHS=10"
      ]
    },
    {
      "cell_type": "markdown",
      "metadata": {
        "id": "5zPUVDJzx8Vv"
      },
      "source": [
        "# Helper function"
      ]
    },
    {
      "cell_type": "code",
      "execution_count": null,
      "metadata": {
        "id": "5MHPLWiYtA-N",
        "tags": []
      },
      "outputs": [],
      "source": [
        "# Used when creating the tensorflow datasets down below\n",
        "def map_example_to_dict(input_ids, attention_masks, token_type_ids, label):\n",
        "  return {\n",
        "      \"input_ids\": input_ids,\n",
        "      \"token_type_ids\": token_type_ids,\n",
        "      \"attention_mask\": attention_masks,\n",
        "  }, label"
      ]
    },
    {
      "cell_type": "markdown",
      "source": [
        "# Make train, validation, and test data\n",
        "Here we have: 90% train, 5% validation, and 5% test."
      ],
      "metadata": {
        "id": "l11fl4Tpylyi"
      }
    },
    {
      "cell_type": "code",
      "execution_count": null,
      "metadata": {
        "id": "cEQBTBN-x8WI"
      },
      "outputs": [],
      "source": [
        "def make_train_data(start_tweets, start_sentiments):\n",
        "\n",
        "      tweets = start_tweets\n",
        "      sentiments =  start_sentiments\n",
        "\n",
        "\n",
        "      ratio = 0.9\n",
        "        \n",
        "      print(start_sentiments[:10])\n",
        "      print(start_sentiments[-10:])\n",
        "        \n",
        "      pos, neg = sentiments[: sentiments.count(1)], sentiments[- sentiments.count(0):]\n",
        "        \n",
        "      np.random.seed(10)  \n",
        "      msk1 = np.random.rand(len(pos)) < ratio\n",
        "      np.random.seed(11)  \n",
        "      msk2 = np.random.rand(len(neg)) < ratio\n",
        "\n",
        "      train_tweets = [[], [], []]\n",
        "      train_sentiments = []\n",
        "\n",
        "      validation_tweets = [[], [], []]\n",
        "      validation_sentiments = []\n",
        "\n",
        "      test_tweets = [[], [], []]\n",
        "      test_sentiments = []\n",
        "\n",
        "      rest_tweets = [[], [], []] \n",
        "      rest_sentiments = []\n",
        "\n",
        "      for i in range(len(pos)):\n",
        "        if msk1[i] == True:\n",
        "          train_tweets[0].append(tweets[0][i]) \n",
        "          train_tweets[1].append(tweets[1][i]) \n",
        "          train_tweets[2].append(tweets[2][i]) \n",
        "          train_sentiments.append(sentiments[i])\n",
        "        else:\n",
        "          rest_tweets[0].append(tweets[0][i]) \n",
        "          rest_tweets[1].append(tweets[1][i]) \n",
        "          rest_tweets[2].append(tweets[2][i]) \n",
        "          rest_sentiments.append(sentiments[i])\n",
        "            \n",
        "      for i in range(len(neg)):\n",
        "        if msk2[i] == True:\n",
        "          train_tweets[0].append(tweets[0][len(pos) + i])\n",
        "          train_tweets[1].append(tweets[1][len(pos) +i]) \n",
        "          train_tweets[2].append(tweets[2][len(pos) +i])  \n",
        "          train_sentiments.append(sentiments[len(pos) +i])\n",
        "        else:\n",
        "          rest_tweets[0].append(tweets[0][len(pos) +i])\n",
        "          rest_tweets[1].append(tweets[1][len(pos) +i])\n",
        "          rest_tweets[2].append(tweets[2][len(pos) +i]) \n",
        "          rest_sentiments.append(sentiments[len(pos) +i])\n",
        "\n",
        "\n",
        "      rest_ratio = 0.5\n",
        "      print(rest_sentiments[:10])\n",
        "      print(rest_sentiments[-10:])\n",
        "    \n",
        "      pos, neg = rest_sentiments[: rest_sentiments.count(1)], rest_sentiments[- rest_sentiments.count(0):]\n",
        "      np.random.seed(10)\n",
        "      msk1 = np.random.rand(len(pos)) < rest_ratio\n",
        "      np.random.seed(11)  \n",
        "      msk2 = np.random.rand(len(neg)) < rest_ratio\n",
        "\n",
        "\n",
        "      for i in range(len(pos)):\n",
        "        if msk1[i] == True:\n",
        "          validation_tweets[0].append(rest_tweets[0][i])\n",
        "          validation_tweets[1].append(rest_tweets[1][i])\n",
        "          validation_tweets[2].append(rest_tweets[2][i]) \n",
        "          validation_sentiments.append(rest_sentiments[i])\n",
        "        else:\n",
        "          test_tweets[0].append(rest_tweets[0][i]) \n",
        "          test_tweets[1].append(rest_tweets[1][i]) \n",
        "          test_tweets[2].append(rest_tweets[2][i]) \n",
        "          test_sentiments.append(rest_sentiments[i])\n",
        "\n",
        "      for i in range(len(neg)):\n",
        "        if msk2[i] == True:\n",
        "          validation_tweets[0].append(rest_tweets[0][len(pos) + i]) \n",
        "          validation_tweets[1].append(rest_tweets[1][len(pos) + i]) \n",
        "          validation_tweets[2].append(rest_tweets[2][len(pos) + i]) \n",
        "          validation_sentiments.append(rest_sentiments[len(pos) + i])\n",
        "        else:\n",
        "          test_tweets[0].append(rest_tweets[0][len(pos) + i]) \n",
        "          test_tweets[1].append(rest_tweets[1][len(pos) + i]) \n",
        "          test_tweets[2].append(rest_tweets[2][len(pos) + i]) \n",
        "          test_sentiments.append(rest_sentiments[len(pos) + i])\n",
        "\n",
        "      print(\"I have: Train:\"+str(len(train_sentiments)) + \" Validation:\" +str(len(validation_sentiments)) + \" Test:\" +str(len(test_sentiments))) \n",
        "\n",
        "      train_tweets_ds = tf.data.Dataset.from_tensor_slices((train_tweets[0], train_tweets[1], train_tweets[2], train_sentiments)).map(map_example_to_dict).shuffle(len(train_sentiments))\n",
        "      print(\"Train loaded\")\n",
        "      validation_tweets_ds = tf.data.Dataset.from_tensor_slices((validation_tweets[0], validation_tweets[1],validation_tweets[2], validation_sentiments)).map(map_example_to_dict).shuffle(len(validation_sentiments))\n",
        "      print(\"Validation loaded\")\n",
        "      test_tweets_ds = tf.data.Dataset.from_tensor_slices((test_tweets[0], test_tweets[1], test_tweets[2],test_sentiments)).map(map_example_to_dict)\n",
        "      print(\"Test loaded\")\n",
        "      return (train_tweets_ds, train_sentiments), (validation_tweets_ds, validation_sentiments), (test_tweets_ds, test_sentiments)\n",
        "    \n",
        "(ds_train_encoded_unb,ts), (ds_val_encoded_unb, vs), (ds_test_encoded_unb, tss) = make_train_data(tweets, sentiments)"
      ]
    },
    {
      "cell_type": "markdown",
      "source": [
        "# Batch the data\n"
      ],
      "metadata": {
        "id": "rVUrtn5NyubX"
      }
    },
    {
      "cell_type": "code",
      "execution_count": null,
      "metadata": {
        "id": "7oXb9JvSx8WJ"
      },
      "outputs": [],
      "source": [
        "ds_train_encoded = ds_train_encoded_unb.batch(batch_size)\n",
        "ds_test_encoded = ds_test_encoded_unb.batch(batch_size)\n",
        "ds_val_encoded = ds_val_encoded_unb.batch(batch_size)"
      ]
    },
    {
      "cell_type": "markdown",
      "source": [
        "# Define strategy for training in parallel"
      ],
      "metadata": {
        "id": "mTFrwl0myx9x"
      }
    },
    {
      "cell_type": "code",
      "execution_count": null,
      "metadata": {
        "id": "SfhUXgvfx8WN"
      },
      "outputs": [],
      "source": [
        "tf.debugging.set_log_device_placement(True)\n",
        "gpus = tf.config.list_logical_devices('GPU')\n",
        "if len(gpus) > 1:\n",
        "    strategy = tf.distribute.MirroredStrategy(gpus)\n",
        "    with strategy.scope():\n",
        "        model = TFRobertaForSequenceClassification.from_pretrained('roberta-base', num_labels = 2)\n",
        "\n",
        "        optimizer = tf.keras.optimizers.Adam(learning_rate=3e-5)\n",
        "        loss = tf.keras.losses.SparseCategoricalCrossentropy(from_logits=True)\n",
        "        metric = tf.keras.metrics.SparseCategoricalAccuracy('accuracy')\n",
        "    \n",
        "        model.compile(optimizer=optimizer, loss=loss, metrics=[metric])\n"
      ]
    },
    {
      "cell_type": "code",
      "execution_count": null,
      "metadata": {
        "id": "iwCJV0xMx8WN"
      },
      "outputs": [],
      "source": [
        "model.summary()"
      ]
    },
    {
      "cell_type": "markdown",
      "source": [
        "# Fine-tune the model\n",
        "Early stopping to prevent overfitting."
      ],
      "metadata": {
        "id": "vgarfE7Sy1gP"
      }
    },
    {
      "cell_type": "code",
      "execution_count": null,
      "metadata": {
        "id": "HHXI-O9LtMZ0"
      },
      "outputs": [],
      "source": [
        "stop_early = tf.keras.callbacks.EarlyStopping(monitor='val_accuracy', patience= 3, restore_best_weights= True);\n",
        "bert_history = model.fit(ds_train_encoded, epochs=EPOCHS, validation_data=ds_val_encoded, callbacks=[stop_early,])"
      ]
    },
    {
      "cell_type": "markdown",
      "source": [
        "# Save the model"
      ],
      "metadata": {
        "id": "Bj95Ggr3y5d9"
      }
    },
    {
      "cell_type": "code",
      "execution_count": null,
      "metadata": {
        "id": "OS3am4tCx8WQ"
      },
      "outputs": [],
      "source": [
        "model.save_weights(\"roberta_b30.h5\")"
      ]
    },
    {
      "cell_type": "code",
      "execution_count": null,
      "metadata": {
        "id": "J3-QDIbtx8WQ"
      },
      "outputs": [],
      "source": [
        "loaded_model = TFRobertaForSequenceClassification.from_pretrained('roberta-base', num_labels = 2)\n",
        "\n",
        "optimizer = tf.keras.optimizers.Adam(learning_rate=3e-5)\n",
        "loss = tf.keras.losses.SparseCategoricalCrossentropy(from_logits=True)\n",
        "metric = tf.keras.metrics.SparseCategoricalAccuracy('accuracy')\n",
        "\n",
        "loaded_model.load_weights(\"roberta_b30.h5\")\n",
        "\n",
        "loaded_model.compile(optimizer=optimizer, loss=loss, metrics=[metric])"
      ]
    },
    {
      "cell_type": "markdown",
      "source": [
        "# Evaluate the model"
      ],
      "metadata": {
        "id": "O-BBtUhPy-93"
      }
    },
    {
      "cell_type": "code",
      "execution_count": null,
      "metadata": {
        "id": "XiKzS5j4x8WS"
      },
      "outputs": [],
      "source": [
        "loaded_model.evaluate(ds_test_encoded)"
      ]
    },
    {
      "cell_type": "code",
      "execution_count": null,
      "metadata": {
        "id": "CqlcMY6Rx8WS"
      },
      "outputs": [],
      "source": [
        "model.evaluate(ds_test_encoded)"
      ]
    }
  ],
  "metadata": {
    "accelerator": "GPU",
    "colab": {
      "provenance": []
    },
    "gpuClass": "standard",
    "kernelspec": {
      "display_name": "Python 3 (ipykernel)",
      "language": "python",
      "name": "python3"
    },
    "language_info": {
      "codemirror_mode": {
        "name": "ipython",
        "version": 3
      },
      "file_extension": ".py",
      "mimetype": "text/x-python",
      "name": "python",
      "nbconvert_exporter": "python",
      "pygments_lexer": "ipython3",
      "version": "3.8.10"
    }
  },
  "nbformat": 4,
  "nbformat_minor": 0
}