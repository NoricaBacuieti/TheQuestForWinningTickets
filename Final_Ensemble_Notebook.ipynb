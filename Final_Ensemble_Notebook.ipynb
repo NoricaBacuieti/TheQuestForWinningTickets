{
  "cells": [
    {
      "cell_type": "markdown",
      "source": [
        "# Installing packages"
      ],
      "metadata": {
        "id": "qJ-ozfDUXqbw"
      }
    },
    {
      "cell_type": "code",
      "execution_count": null,
      "metadata": {
        "id": "RIzlHZciS3NZ"
      },
      "outputs": [],
      "source": [
        "!pip install --user -q --progress-bar on torch\n",
        "!pip install --user -q tensorflow\n",
        "!pip install --user -q sklearn\n",
        "!pip install -q transformers\n",
        "!pip install --user -q tqdm\n",
        "!pip install gdown\n",
        "!mkdir -p models"
      ]
    },
    {
      "cell_type": "markdown",
      "source": [
        "***Warning***: Depending on the runtime used, you might have to restart the kernel in order for the new libraries to be located properly.\n"
      ],
      "metadata": {
        "id": "8vNy6RmGYxp9"
      }
    },
    {
      "cell_type": "markdown",
      "source": [
        "# Import libraries"
      ],
      "metadata": {
        "id": "ud3Si8iYXv09"
      }
    },
    {
      "cell_type": "code",
      "execution_count": null,
      "metadata": {
        "id": "o597sS3wS3Nf"
      },
      "outputs": [],
      "source": [
        "from numpy import dstack\n",
        "import pickle\n",
        "import numpy as np\n",
        "\n",
        "import tensorflow as tf\n",
        "import tensorflow.keras as keras\n",
        "\n",
        "from keras.models import load_model\n",
        "from keras.utils import to_categorical\n",
        "from keras import Input, regularizers\n",
        "from keras.layers import Dense, Dropout\n",
        "\n",
        "from sklearn.metrics import accuracy_score\n",
        "from sklearn.linear_model import LogisticRegression\n",
        "\n",
        "import gdown\n",
        "\n",
        "from transformers import TFBertForSequenceClassification, TFDistilBertModel, TFRobertaForSequenceClassification, TFDistilBertForSequenceClassification"
      ]
    },
    {
      "cell_type": "markdown",
      "source": [
        "# Dataset"
      ],
      "metadata": {
        "id": "c0hvLoS0X0EH"
      }
    },
    {
      "cell_type": "markdown",
      "source": [
        "Download tokenized tweets from google drive. If the automatic download fails, please copy-paste the link in the browser, download them, and upload them manually."
      ],
      "metadata": {
        "id": "eXbhGT8FX4jL"
      }
    },
    {
      "cell_type": "code",
      "execution_count": null,
      "metadata": {
        "id": "BHT7dVgjS3Ne"
      },
      "outputs": [],
      "source": [
        "files={\n",
        "    \"attention_masks.pkl\": \"https://drive.google.com/uc?id=1xxv8TWjycS3xRt-9_QrjuGeCsn5lMjge\",\n",
        "    \"sentiments_encoded.pkl\": \"https://drive.google.com/uc?id=1W4bPBy0AO9RKVa1dTiUwp7KIi3LHTIcQ\",\n",
        "    \"token_types.pkl\": \"https://drive.google.com/uc?id=17aTXUlBWWA7eCy2lb7Zwg7APoe0VVqyY\",\n",
        "    \"tweets_encoded.pkl\": \"https://drive.google.com/uc?id=1ZKrDAtIIf5nXeRkAQ9o0wThwwJMPGylX\",\n",
        "}\n",
        "for fname, url in files.items():\n",
        "    gdown.download(url, f\"{fname}\")"
      ]
    },
    {
      "cell_type": "markdown",
      "source": [
        "## Load the tokenized tweets"
      ],
      "metadata": {
        "id": "kKvgAgCAX9Bt"
      }
    },
    {
      "cell_type": "code",
      "execution_count": null,
      "metadata": {
        "id": "YXRl_1g9S3Nf"
      },
      "outputs": [],
      "source": [
        "tweets_encoded, attention_masks, token_types, sentiments_encoded = None, None, None, None\n",
        "with open(\"tweets_encoded.pkl\", \"rb\") as f:\n",
        "    tweets_encoded = pickle.load(f)\n",
        "with open(\"attention_masks.pkl\", \"rb\") as f:\n",
        "    attention_masks = pickle.load(f)\n",
        "with open(\"token_types.pkl\", \"rb\") as f:\n",
        "    token_types = pickle.load(f)\n",
        "with open(\"sentiments_encoded.pkl\", \"rb\") as f:\n",
        "    sentiments_encoded = pickle.load(f)"
      ]
    },
    {
      "cell_type": "code",
      "execution_count": null,
      "metadata": {
        "id": "ZXhhGv85S3Nj"
      },
      "outputs": [],
      "source": [
        "tweets, sentiments = [tweets_encoded, attention_masks, token_types], sentiments_encoded"
      ]
    },
    {
      "cell_type": "markdown",
      "source": [
        "## Helper functions "
      ],
      "metadata": {
        "id": "LqlN3-jgb9Fn"
      }
    },
    {
      "cell_type": "code",
      "execution_count": null,
      "metadata": {
        "id": "cAsEPb6JS3Nh"
      },
      "outputs": [],
      "source": [
        "def map_example_to_dict(input_ids, attention_masks, token_type_ids, label):\n",
        "  return {\n",
        "      \"input_ids\": input_ids,\n",
        "      \"token_type_ids\": token_type_ids,\n",
        "      \"attention_mask\": attention_masks,\n",
        "  }, label\n",
        "\n",
        "def dbert_map_example_to_dict(input_ids, attention_masks, label):\n",
        "  return {\n",
        "      \"input_ids\": input_ids,\n",
        "      \"attention_mask\": attention_masks,\n",
        "  }, label"
      ]
    },
    {
      "cell_type": "markdown",
      "source": [
        "## Make train, validation, and test data\n",
        "Here we have: 90% train (unused as we have done training in prior notebooks, saving the weights), 5% validation, and 5% test."
      ],
      "metadata": {
        "id": "Tc_eAzmwYDRX"
      }
    },
    {
      "cell_type": "code",
      "execution_count": null,
      "metadata": {
        "id": "itYpY1tqS3Nj"
      },
      "outputs": [],
      "source": [
        "def make_train_data(start_tweets, start_sentiments, dbert=False): \n",
        " \n",
        "      tweets = start_tweets \n",
        "      sentiments =  start_sentiments \n",
        " \n",
        " \n",
        "      ratio = 0.9 \n",
        "         \n",
        "      print(start_sentiments[:10]) \n",
        "      print(start_sentiments[-10:]) \n",
        "         \n",
        "      pos, neg = sentiments[: sentiments.count(1)], sentiments[- sentiments.count(0):] \n",
        "         \n",
        "      np.random.seed(10)   \n",
        "      msk1 = np.random.rand(len(pos)) < ratio \n",
        "      np.random.seed(11)   \n",
        "      msk2 = np.random.rand(len(neg)) < ratio \n",
        " \n",
        "      train_tweets = [[], [], []] \n",
        "      train_sentiments = [] \n",
        " \n",
        "      validation_tweets = [[], [], []] \n",
        "      validation_sentiments = [] \n",
        " \n",
        "      test_tweets = [[], [], []] \n",
        "      test_sentiments = [] \n",
        " \n",
        "      rest_tweets = [[], [], []]  \n",
        "      rest_sentiments = [] \n",
        " \n",
        "      for i in range(len(pos)): \n",
        "        if msk1[i] == True: \n",
        "          train_tweets[0].append(tweets[0][i])  \n",
        "          train_tweets[1].append(tweets[1][i])  \n",
        "          train_tweets[2].append(tweets[2][i])  \n",
        "          train_sentiments.append(sentiments[i]) \n",
        "        else: \n",
        "          rest_tweets[0].append(tweets[0][i])  \n",
        "          rest_tweets[1].append(tweets[1][i])  \n",
        "          rest_tweets[2].append(tweets[2][i])  \n",
        "          rest_sentiments.append(sentiments[i]) \n",
        "             \n",
        "      for i in range(len(neg)): \n",
        "        if msk2[i] == True: \n",
        "          train_tweets[0].append(tweets[0][len(pos) + i]) \n",
        "          train_tweets[1].append(tweets[1][len(pos) +i])  \n",
        "          train_tweets[2].append(tweets[2][len(pos) +i])   \n",
        "          train_sentiments.append(sentiments[len(pos) +i]) \n",
        "        else: \n",
        "          rest_tweets[0].append(tweets[0][len(pos) +i]) \n",
        "          rest_tweets[1].append(tweets[1][len(pos) +i]) \n",
        "          rest_tweets[2].append(tweets[2][len(pos) +i])  \n",
        "          rest_sentiments.append(sentiments[len(pos) +i]) \n",
        " \n",
        " \n",
        "      rest_ratio = 0.5 \n",
        "      print(rest_sentiments[:10]) \n",
        "      print(rest_sentiments[-10:]) \n",
        "     \n",
        "      pos, neg = rest_sentiments[: rest_sentiments.count(1)], rest_sentiments[- rest_sentiments.count(0):] \n",
        "      np.random.seed(10) \n",
        "      msk1 = np.random.rand(len(pos)) < rest_ratio \n",
        "      np.random.seed(11)   \n",
        "      msk2 = np.random.rand(len(neg)) < rest_ratio \n",
        " \n",
        " \n",
        "      for i in range(len(pos)): \n",
        "        if msk1[i] == True: \n",
        "          validation_tweets[0].append(rest_tweets[0][i]) \n",
        "          validation_tweets[1].append(rest_tweets[1][i]) \n",
        "          validation_tweets[2].append(rest_tweets[2][i])  \n",
        "          validation_sentiments.append(rest_sentiments[i]) \n",
        "        else: \n",
        "          test_tweets[0].append(rest_tweets[0][i])  \n",
        "          test_tweets[1].append(rest_tweets[1][i])  \n",
        "          test_tweets[2].append(rest_tweets[2][i])  \n",
        "          test_sentiments.append(rest_sentiments[i]) \n",
        " \n",
        "      for i in range(len(neg)): \n",
        "        if msk2[i] == True: \n",
        "          validation_tweets[0].append(rest_tweets[0][len(pos) + i])  \n",
        "          validation_tweets[1].append(rest_tweets[1][len(pos) + i])  \n",
        "          validation_tweets[2].append(rest_tweets[2][len(pos) + i])  \n",
        "          validation_sentiments.append(rest_sentiments[len(pos) + i]) \n",
        "        else: \n",
        "          test_tweets[0].append(rest_tweets[0][len(pos) + i])  \n",
        "          test_tweets[1].append(rest_tweets[1][len(pos) + i])  \n",
        "          test_tweets[2].append(rest_tweets[2][len(pos) + i])  \n",
        "          test_sentiments.append(rest_sentiments[len(pos) + i]) \n",
        " \n",
        "      print(\"I have: Train:\"+str(len(train_sentiments)) + \" Validation:\" +str(len(validation_sentiments)) + \" Test:\" +str(len(test_sentiments)))  \n",
        "     \n",
        "      if not dbert:\n",
        "          train_tweets_ds = None\n",
        "          print(\"Train loaded\") \n",
        "          validation_tweets_ds = tf.data.Dataset.from_tensor_slices((validation_tweets[0], validation_tweets[1],validation_tweets[2], validation_sentiments)).map(map_example_to_dict).shuffle(len(validation_sentiments)) \n",
        "          print(\"Validation loaded\") \n",
        "          test_tweets_ds = tf.data.Dataset.from_tensor_slices((test_tweets[0], test_tweets[1], test_tweets[2],test_sentiments)).map(map_example_to_dict) \n",
        "          print(\"Test loaded\") \n",
        "          return (train_tweets_ds, train_sentiments), (validation_tweets_ds, validation_sentiments), (test_tweets_ds, test_sentiments) \n",
        "      else:\n",
        "          print(\"DBERT\")\n",
        "          train_tweets_ds = None\n",
        "          print(\"Train loaded\")\n",
        "          validation_tweets_ds = tf.data.Dataset.from_tensor_slices((validation_tweets[0], validation_tweets[1], validation_sentiments)).map(dbert_map_example_to_dict).shuffle(len(validation_sentiments))\n",
        "          print(\"Validation loaded\")\n",
        "          test_tweets_ds = tf.data.Dataset.from_tensor_slices((test_tweets[0], test_tweets[1],test_sentiments)).map(dbert_map_example_to_dict)\n",
        "          print(\"Test loaded\")\n",
        "          return (train_tweets_ds, train_sentiments), (validation_tweets_ds, validation_sentiments), (test_tweets_ds, test_sentiments) "
      ]
    },
    {
      "cell_type": "code",
      "execution_count": null,
      "metadata": {
        "id": "qXL8kzjkS3Nk"
      },
      "outputs": [],
      "source": [
        "# The datasets for BERT and RoBERTa\n",
        "(ds_train_encoded_unb,ts), (ds_val_encoded_unb, vs), (ds_test_encoded_unb, tss) = make_train_data(tweets, sentiments)"
      ]
    },
    {
      "cell_type": "code",
      "execution_count": null,
      "metadata": {
        "id": "nKs6cdalS3Nl"
      },
      "outputs": [],
      "source": [
        "# The dataset for DistilBERT - like the one above but wihtout token types\n",
        "(dbert_ds_train_encoded_unb,ts), (dbert_ds_val_encoded_unb, vs), (dbert_ds_test_encoded_unb, tss) = make_train_data(tweets, sentiments, dbert=True)"
      ]
    },
    {
      "cell_type": "markdown",
      "source": [
        "## Batch the datasets"
      ],
      "metadata": {
        "id": "MfEIkLrxNxhI"
      }
    },
    {
      "cell_type": "code",
      "execution_count": null,
      "metadata": {
        "id": "Ur9S3lNBS3Nl"
      },
      "outputs": [],
      "source": [
        "batch_size = 30\n",
        "\n",
        "ds_test_encoded = ds_test_encoded_unb.batch(batch_size)\n",
        "ds_val_encoded = ds_val_encoded_unb.batch(batch_size)\n",
        "dbert_ds_test_encoded = dbert_ds_test_encoded_unb.batch(batch_size)\n",
        "dbert_ds_val_encoded = dbert_ds_val_encoded_unb.batch(batch_size)"
      ]
    },
    {
      "cell_type": "markdown",
      "source": [
        "# Functions for loading the base models"
      ],
      "metadata": {
        "id": "26GZzDKnUgAN"
      }
    },
    {
      "cell_type": "code",
      "execution_count": null,
      "metadata": {
        "id": "d1gmm__kS3Nm"
      },
      "outputs": [],
      "source": [
        "# The DistilBERT model\n",
        "def get_dbert_model(): \n",
        "    num_classes = 2\n",
        "    max_length=512\n",
        "    dbert_model = TFDistilBertModel.from_pretrained('distilbert-base-uncased') \n",
        "    inps = Input(shape = (max_length,), dtype='int64', name = 'input_ids') \n",
        "    masks= Input(shape = (max_length,), dtype='int64', name = 'attention_mask') \n",
        "    dbert_layer = dbert_model(inps, attention_mask=masks)[0][:,0,:] \n",
        "    dense = Dense(512,activation='relu',kernel_regularizer=keras.regularizers.l2(0.01))(dbert_layer) \n",
        "    dropout= Dropout(0.5)(dense) \n",
        "    pred = Dense(num_classes, activation='softmax',kernel_regularizer=regularizers.l2(0.01))(dropout) \n",
        "    model = tf.keras.Model(inputs=[inps,masks], outputs=pred)\n",
        "    model._name = 'distil_bert'\n",
        "    return model"
      ]
    },
    {
      "cell_type": "code",
      "execution_count": null,
      "metadata": {
        "id": "0TD34N5dS3Nm"
      },
      "outputs": [],
      "source": [
        "# All models with the weights which resulted after training in the first notebooks loaded\n",
        "def load_all_models():\n",
        "    all_models = list()\n",
        "    \n",
        "    print(\"Loading bert-base\")\n",
        "    bert_model = TFBertForSequenceClassification.from_pretrained('bert-base-uncased', num_labels = 2)\n",
        "    optimizer = tf.keras.optimizers.Adam(learning_rate=3e-5)\n",
        "    loss = tf.keras.losses.SparseCategoricalCrossentropy(from_logits=True)\n",
        "    metric = tf.keras.metrics.SparseCategoricalAccuracy('accuracy')\n",
        "    bert_model.load_weights(\"models/bert_b30.h5\")\n",
        "    bert_model.compile(optimizer=optimizer, loss=loss, metrics=[metric])\n",
        "    \n",
        "    print(\"Loading distilbert-base-uncased\")\n",
        "    dbert_model = get_dbert_model()\n",
        "    optimizer = tf.keras.optimizers.Adam(learning_rate=3e-5)\n",
        "    loss = tf.keras.losses.SparseCategoricalCrossentropy(from_logits=True)\n",
        "    metric = tf.keras.metrics.SparseCategoricalAccuracy('accuracy')\n",
        "    dbert_model.load_weights(\"models/dbert_b30.h5\")\n",
        "    dbert_model.compile(optimizer=optimizer, loss=loss, metrics=[metric])\n",
        "    \n",
        "    print(\"Loading roberta\")\n",
        "    roberta_model = TFRobertaForSequenceClassification.from_pretrained('roberta-base', num_labels = 2)\n",
        "    optimizer = tf.keras.optimizers.Adam(learning_rate=3e-5)\n",
        "    loss = tf.keras.losses.SparseCategoricalCrossentropy(from_logits=True)\n",
        "    metric = tf.keras.metrics.SparseCategoricalAccuracy('accuracy')\n",
        "    roberta_model.compile(optimizer=optimizer, loss=loss, metrics=[metric])\n",
        "    roberta_model.load_weights(\"models/roberta_b30.h5\")\n",
        "    return [bert_model, dbert_model, roberta_model]"
      ]
    },
    {
      "cell_type": "markdown",
      "source": [
        "# Ensamble learning"
      ],
      "metadata": {
        "id": "ilKrHVy8UlxG"
      }
    },
    {
      "cell_type": "markdown",
      "source": [
        "## Helper functions"
      ],
      "metadata": {
        "id": "9COkdYKuUoNt"
      }
    },
    {
      "cell_type": "code",
      "execution_count": null,
      "metadata": {
        "id": "7Wdt0a7XS3Nn"
      },
      "outputs": [],
      "source": [
        "def softmax_all(samples):\n",
        "    softmaxes = list()\n",
        "    for x in samples:\n",
        "        e_x = np.exp(x - np.max(x))\n",
        "        softmaxes.append(e_x / e_x.sum())\n",
        "    return np.array(softmaxes)"
      ]
    },
    {
      "cell_type": "markdown",
      "source": [
        "This section is based on this [tutorial](https://machinelearningmastery.com/stacking-ensemble-for-deep-learning-neural-networks/)"
      ],
      "metadata": {
        "id": "SLzcmOIydXPS"
      }
    },
    {
      "cell_type": "code",
      "execution_count": null,
      "metadata": {
        "id": "Xc9KzCujS3Nn"
      },
      "outputs": [],
      "source": [
        "# create stacked dataset\n",
        "def stacked_dataset(members, inputX, dbertInputX):\n",
        "    stackX = None\n",
        "    print(\"Stacking ensamble dataset:>\")\n",
        "    for model in members:\n",
        "        # make prediction\n",
        "        print(model._name)\n",
        "        if 'distil' in model._name:\n",
        "            print(\"Distil\")\n",
        "            yhat = model.predict(dbertInputX, verbose=1)\n",
        "        else:\n",
        "            yhat = model.predict(inputX, verbose=1)\n",
        "            yhat = yhat[0]\n",
        "            yhat = softmax_all(yhat)\n",
        "        print(yhat.shape)\n",
        "        \n",
        "        # stack predictions into [rows, members, probabilities]\n",
        "        if stackX is None:\n",
        "            stackX = yhat\n",
        "        else:\n",
        "            stackX = dstack((stackX, yhat))\n",
        "    # flatten predictions to [rows, members x probabilities]\n",
        "    stackX = stackX.reshape((stackX.shape[0], stackX.shape[1]*stackX.shape[2]))\n",
        "    return stackX\n",
        "\n",
        "# fit a model based on the outputs from the ensemble members\n",
        "def fit_stacked_model(members, dataset, dbertDataset, ys):\n",
        "    # create dataset using ensemble\n",
        "    stackedX = stacked_dataset(members, dataset, dbertDataset)\n",
        "\n",
        "    # fit standalone model\n",
        "    model = LogisticRegression(verbose=True)\n",
        "    model.fit(stackedX, ys)\n",
        "    return model\n",
        "\n",
        "# make a prediction with the stacked model\n",
        "def stacked_prediction(members, model, inputX, dbertInputX):\n",
        "    # create dataset using ensemble\n",
        "    stackedX = stacked_dataset(members, inputX, dbertInputX)\n",
        "\n",
        "    # make a prediction\n",
        "    yhat = model.predict(stackedX)\n",
        "    return yhat"
      ]
    },
    {
      "cell_type": "markdown",
      "source": [
        "## Loading base models"
      ],
      "metadata": {
        "id": "ppngd2gHZi7K"
      }
    },
    {
      "cell_type": "code",
      "execution_count": null,
      "metadata": {
        "id": "V8isxqtiS3Nn"
      },
      "outputs": [],
      "source": [
        "members = load_all_models()"
      ]
    },
    {
      "cell_type": "markdown",
      "source": [
        "## Fitting Ensamble model"
      ],
      "metadata": {
        "id": "1hlDTcelXcow"
      }
    },
    {
      "cell_type": "code",
      "execution_count": null,
      "metadata": {
        "id": "pHokw26LS3No"
      },
      "outputs": [],
      "source": [
        "model = fit_stacked_model(members, ds_val_encoded, dbert_ds_val_encoded, vs)"
      ]
    },
    {
      "cell_type": "markdown",
      "source": [
        "## Evaluating the performance"
      ],
      "metadata": {
        "id": "KKLwGoOGnJYW"
      }
    },
    {
      "cell_type": "code",
      "execution_count": null,
      "metadata": {
        "id": "Gz96829_S3No"
      },
      "outputs": [],
      "source": [
        "yhat = stacked_prediction(members, model, ds_test_encoded, dbert_ds_test_encoded)\n",
        "\n",
        "acc = accuracy_score(tss, yhat)\n",
        "print('Stacked accuracy:' + str(acc))"
      ]
    }
  ],
  "metadata": {
    "kernelspec": {
      "display_name": "Python 3",
      "language": "python",
      "name": "python3"
    },
    "language_info": {
      "codemirror_mode": {
        "name": "ipython",
        "version": 3
      },
      "file_extension": ".py",
      "mimetype": "text/x-python",
      "name": "python",
      "nbconvert_exporter": "python",
      "pygments_lexer": "ipython3",
      "version": "3.8.5"
    },
    "colab": {
      "provenance": []
    }
  },
  "nbformat": 4,
  "nbformat_minor": 0
}